{
 "cells": [
  {
   "attachments": {},
   "cell_type": "markdown",
   "metadata": {},
   "source": [
    "# Installation"
   ]
  },
  {
   "cell_type": "code",
   "execution_count": null,
   "metadata": {},
   "outputs": [],
   "source": [
    "pip install sensirion_uart_sfx6xxx"
   ]
  },
  {
   "attachments": {},
   "cell_type": "markdown",
   "metadata": {},
   "source": [
    "# Import"
   ]
  },
  {
   "cell_type": "code",
   "execution_count": 1,
   "metadata": {},
   "outputs": [],
   "source": [
    "from sensirion_shdlc_driver import ShdlcSerialPort\n",
    "from sensirion_driver_adapters.shdlc_adapter.shdlc_channel import ShdlcChannel\n",
    "from sensirion_uart_sfx6xxx.device import Sfx6xxxDevice"
   ]
  },
  {
   "attachments": {},
   "cell_type": "markdown",
   "metadata": {},
   "source": [
    "# Change the address"
   ]
  },
  {
   "cell_type": "code",
   "execution_count": 4,
   "metadata": {},
   "outputs": [
    {
     "name": "stdout",
     "output_type": "stream",
     "text": [
      "Initial slave adress: 0; \n",
      "New slave adress: 2; \n"
     ]
    }
   ],
   "source": [
    "initial_address = 0\n",
    "slave_address = 2\n",
    "\n",
    "with ShdlcSerialPort(port='COM11', baudrate=115200) as port:\n",
    "    channel = ShdlcChannel(port, shdlc_address=initial_address)\n",
    "    sensor = Sfx6xxxDevice(channel)\n",
    "    print(f\"Initial slave adress: {sensor.get_slave_address()}; \")\n",
    "    sensor.set_slave_address(slave_address)\n",
    "\n",
    "    channel = ShdlcChannel(port, shdlc_address=slave_address)\n",
    "    sensor = Sfx6xxxDevice(channel)\n",
    "    print(f\"New slave adress: {sensor.get_slave_address()}; \")"
   ]
  },
  {
   "cell_type": "code",
   "execution_count": 3,
   "metadata": {},
   "outputs": [
    {
     "name": "stdout",
     "output_type": "stream",
     "text": [
      "Initial slave adress: 2; \n",
      "New slave adress: 0; \n"
     ]
    }
   ],
   "source": [
    "initial_address = 2\n",
    "slave_address = 0\n",
    "\n",
    "with ShdlcSerialPort(port='COM11', baudrate=115200) as port:\n",
    "    channel = ShdlcChannel(port, shdlc_address=initial_address)\n",
    "    sensor = Sfx6xxxDevice(channel)\n",
    "    print(f\"Initial slave adress: {sensor.get_slave_address()}; \")\n",
    "    sensor.set_slave_address(slave_address)\n",
    "\n",
    "    channel = ShdlcChannel(port, shdlc_address=slave_address)\n",
    "    sensor = Sfx6xxxDevice(channel)\n",
    "    print(f\"New slave adress: {sensor.get_slave_address()}; \")"
   ]
  },
  {
   "attachments": {},
   "cell_type": "markdown",
   "metadata": {},
   "source": [
    "# First communications"
   ]
  },
  {
   "cell_type": "code",
   "execution_count": null,
   "metadata": {},
   "outputs": [],
   "source": [
    "with ShdlcSerialPort(port='COM11', baudrate=115200) as port:\n",
    "    channel = ShdlcChannel(port, shdlc_address=2)\n",
    "    sensor = Sfx6xxxDevice(channel)\n",
    "    serial_number = sensor.get_serial_number()\n",
    "    print(f\"serial_number: {serial_number}; \")\n",
    "    measured_value = sensor.read_measured_value()\n",
    "    print(f\"measured_value: {measured_value}; \")\n",
    "    sensor.close_valve()"
   ]
  },
  {
   "attachments": {},
   "cell_type": "markdown",
   "metadata": {},
   "source": [
    "### Matching the serial number to the one indicated on the sensor"
   ]
  },
  {
   "cell_type": "code",
   "execution_count": null,
   "metadata": {},
   "outputs": [],
   "source": [
    "SN = int(serial_number, 16)\n",
    "print('SN: ' + str(SN))"
   ]
  },
  {
   "attachments": {},
   "cell_type": "markdown",
   "metadata": {},
   "source": [
    "# Scanning manually for adresses\n",
    "\n",
    "Be careful, the communication speed (timeout) has been increased a lot here to scan very fast. It is not recommended to keep so parameters afterwards."
   ]
  },
  {
   "cell_type": "code",
   "execution_count": null,
   "metadata": {},
   "outputs": [],
   "source": [
    "valid_address = []\n",
    "counter = 0\n",
    "\n",
    "with ShdlcSerialPort(port='COM11', baudrate=115200, additional_response_time=0) as port:\n",
    "    for test_address in range(0, 255):\n",
    "        channel = ShdlcChannel(port, shdlc_address = test_address, channel_delay = 0.02)\n",
    "        sensor = Sfx6xxxDevice(channel)\n",
    "        counter += 1\n",
    "        try:\n",
    "            valid_address.append(sensor.get_slave_address())\n",
    "        except: \n",
    "            temp = 1\n",
    "            #print(e)\n",
    "\n",
    "print(str(counter) + ' address tested')\n",
    "print(str(len(valid_address)) + ' MFC found at the following adresses : ')\n",
    "print(valid_address)"
   ]
  },
  {
   "attachments": {},
   "cell_type": "markdown",
   "metadata": {},
   "source": [
    "### Testing the communication speed to make sure that there is no missed addresses"
   ]
  },
  {
   "cell_type": "code",
   "execution_count": null,
   "metadata": {},
   "outputs": [],
   "source": [
    "valid_address = []\n",
    "counter = 0\n",
    "\n",
    "with ShdlcSerialPort(port='COM11', baudrate=115200, additional_response_time=0) as port:\n",
    "    for test_address in range(0, 255):\n",
    "        channel = ShdlcChannel(port, shdlc_address = 2, channel_delay = 0.01)\n",
    "        sensor = Sfx6xxxDevice(channel)\n",
    "        counter += 1\n",
    "        try:\n",
    "            valid_address.append(sensor.get_slave_address())\n",
    "        except: \n",
    "            temp = 1\n",
    "            #print(e)\n",
    "\n",
    "print(str(counter) + ' address tested')\n",
    "print(str(len(valid_address)) + ' MFC found at the following adresses : ')\n",
    "print(valid_address)"
   ]
  },
  {
   "cell_type": "code",
   "execution_count": null,
   "metadata": {},
   "outputs": [],
   "source": [
    "valid_address = []\n",
    "counter = 0\n",
    "\n",
    "with ShdlcSerialPort(port='COM11', baudrate=115200, additional_response_time=0) as port:\n",
    "    for test_address in range(0, 255):\n",
    "        channel = ShdlcChannel(port, shdlc_address = 2, channel_delay = 0.02)\n",
    "        sensor = Sfx6xxxDevice(channel)\n",
    "        counter += 1\n",
    "        try:\n",
    "            valid_address.append(sensor.get_slave_address())\n",
    "        except: \n",
    "            temp = 1\n",
    "            #print(e)\n",
    "\n",
    "print(str(counter) + ' address tested')\n",
    "print(str(len(valid_address)) + ' MFC found at the following adresses : ')\n",
    "print(valid_address)"
   ]
  },
  {
   "attachments": {},
   "cell_type": "markdown",
   "metadata": {},
   "source": [
    "# Using several sensors at the same time\n",
    "\n",
    "This one has not been rerun and verified but it should be correct"
   ]
  },
  {
   "cell_type": "code",
   "execution_count": null,
   "metadata": {},
   "outputs": [],
   "source": [
    "with ShdlcSerialPort(port='COM21', baudrate=115200) as port:\n",
    "    sensor0 = Sfx6xxxDevice(ShdlcChannel(port, shdlc_address=0))\n",
    "    sensor1 = Sfx6xxxDevice(ShdlcChannel(port, shdlc_address=1))\n",
    "    sensor2 = Sfx6xxxDevice(ShdlcChannel(port, shdlc_address=2))\n",
    "    print(f\"serial_number: {int(sensor0.get_serial_number(), 16)}; \")\n",
    "    print(f\"serial_number: {int(sensor1.get_serial_number(), 16)}; \")\n",
    "    print(f\"serial_number: {int(sensor2.get_serial_number(), 16)}; \")\n",
    "    print(f\"measured_value: {sensor0.read_measured_value()}; \")\n",
    "    print(f\"measured_value: {sensor1.read_measured_value()}; \")\n",
    "    print(f\"measured_value: {sensor2.read_measured_value()}; \")"
   ]
  }
 ],
 "metadata": {
  "kernelspec": {
   "display_name": "Python 3",
   "language": "python",
   "name": "python3"
  },
  "language_info": {
   "codemirror_mode": {
    "name": "ipython",
    "version": 3
   },
   "file_extension": ".py",
   "mimetype": "text/x-python",
   "name": "python",
   "nbconvert_exporter": "python",
   "pygments_lexer": "ipython3",
   "version": "3.8.6"
  },
  "orig_nbformat": 4,
  "vscode": {
   "interpreter": {
    "hash": "19e87ee18731f50a3e4a3e481a023959fbfbbe2abbfde1968e184efdcc2f7b7c"
   }
  }
 },
 "nbformat": 4,
 "nbformat_minor": 2
}
